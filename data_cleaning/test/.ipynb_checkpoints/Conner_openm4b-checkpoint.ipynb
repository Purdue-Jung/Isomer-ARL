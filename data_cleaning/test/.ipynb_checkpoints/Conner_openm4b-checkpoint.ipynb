{
 "cells": [
  {
   "cell_type": "code",
   "execution_count": 3,
   "id": "14e49e45-d6ef-4af9-802f-101bc1286bdf",
   "metadata": {},
   "outputs": [
    {
     "name": "stdout",
     "output_type": "stream",
     "text": [
      "File opening error!\n"
     ]
    }
   ],
   "source": [
    "import numpy as np\n",
    "#from mayavi import mlab\n",
    "\n",
    "def myread(filepath):\n",
    "    dtype = np.dtype('>i4')\n",
    "    cgdata=np.eye(4096,4096)\n",
    "    try:\n",
    "        with open(filepath, \"rb\") as f:\n",
    "            numpy_data=np.fromfile(f,dtype)\n",
    "            cgdata=np.reshape(numpy_data, (4096,4096))\n",
    "    except IOError:\n",
    "        print('File opening error!')\n",
    "    return cgdata\n",
    "\n",
    "#def myplot(data,output):\n",
    "#   s=mlab.surf(data)\n",
    "#   mlab.show()\n",
    "#   return\n",
    "\n",
    "mydata=myread(\"cg-Eu.m4b\")\n",
    "subdata=mydata[0:3000,0:3000]\n",
    "#myplot(subdata, ' ')"
   ]
  },
  {
   "cell_type": "code",
   "execution_count": null,
   "id": "34810e2c-49d8-46e6-88e5-47b0f004ed99",
   "metadata": {},
   "outputs": [],
   "source": []
  }
 ],
 "metadata": {
  "kernelspec": {
   "display_name": "Python 3 (ipykernel)",
   "language": "python",
   "name": "python3"
  },
  "language_info": {
   "codemirror_mode": {
    "name": "ipython",
    "version": 3
   },
   "file_extension": ".py",
   "mimetype": "text/x-python",
   "name": "python",
   "nbconvert_exporter": "python",
   "pygments_lexer": "ipython3",
   "version": "3.13.2"
  }
 },
 "nbformat": 4,
 "nbformat_minor": 5
}
