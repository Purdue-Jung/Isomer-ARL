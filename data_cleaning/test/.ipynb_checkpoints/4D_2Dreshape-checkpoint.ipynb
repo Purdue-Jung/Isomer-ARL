{
 "cells": [
  {
   "cell_type": "code",
   "execution_count": 10,
   "id": "36dcda38-af11-4c81-81ec-369124c02989",
   "metadata": {},
   "outputs": [],
   "source": [
    "#this is code to reshape .m4b or 4D matrix files to 2D file types\n",
    "#this is a reshape operation, not a compression/data loss. All remain float32\n",
    "#dimensional context is lost. \n",
    "    #Prior we may have had (x,y,w,z)\n",
    "        #(Detector A energy, Detector B energy, Coincidence time, Count index)\n",
    "    #Now we have (x,y) \n",
    "        #(Detector A energy, Detector B energy) and the cell value is coincidence count\n",
    "    #Imagine a flattening of a rubix cube. The colors remain but the context does not.\n",
    "#within terminal, open to your file then open jupyter notebook and run this.\n",
    "    #cd Home/DataMine/test \n",
    "    #jupyter notebook "
   ]
  },
  {
   "cell_type": "code",
   "execution_count": 2,
   "id": "63a56469-4b8c-4308-b8fa-1c8dc30d1a88",
   "metadata": {},
   "outputs": [
    {
     "name": "stdout",
     "output_type": "stream",
     "text": [
      "File size: 67108864 bytes\n",
      "Number of float32 values (float32 = 4 bytes): 16777216\n",
      "First 10 values: [0. 0. 0. 0. 0. 0. 0. 0. 0. 0.]\n"
     ]
    }
   ],
   "source": [
    "import numpy as np\n",
    "import os\n",
    "\n",
    "filename = \"Eu152Pb.m4b\"\n",
    "\n",
    "#file size in bytes\n",
    "file_size = os.path.getsize(filename)\n",
    "print(f\"File size: {file_size} bytes\")\n",
    "\n",
    "#number of float32 values\n",
    "num_values = file_size // 4\n",
    "print(f\"Number of float32 values (float32 = 4 bytes): {num_values}\")\n",
    "\n",
    "data = np.fromfile(filename, dtype=np.float32)\n",
    "\n",
    "print(\"First 10 values:\", data[:10])\n"
   ]
  },
  {
   "cell_type": "code",
   "execution_count": 11,
   "id": "9272a0ea-a07d-461d-bd82-cd675fa7075a",
   "metadata": {},
   "outputs": [
    {
     "name": "stdout",
     "output_type": "stream",
     "text": [
      "Reshaped to 4D: (64, 64, 64, 64)\n"
     ]
    }
   ],
   "source": [
    "#if data has 10000 values, and you guess the shape (10, 10, 10, 10)\n",
    "#make sure [product of shape] = num_values\n",
    "\n",
    "#here numvalues = 16777216\n",
    "\n",
    "shape_4d = (64, 64, 64, 64)\n",
    "#example valid options:\n",
    "   #(64, 64, 64, 64) → 64⁴ = 16,777,216\n",
    "   #(128, 128, 128, 8) → 128×128×128×8 = 16,777,216 \n",
    "   #(256, 256, 256, 1) → large cube \n",
    "\n",
    "assert np.prod(shape_4d) == data.size, \"Invalid shape!\"\n",
    "\n",
    "# Reshape\n",
    "array_4d = data.reshape(shape_4d)\n",
    "print(\"Reshaped to 4D:\", array_4d.shape)\n"
   ]
  },
  {
   "cell_type": "code",
   "execution_count": 12,
   "id": "2681a011-e0b4-44a4-b8e6-fd6a996fbad7",
   "metadata": {},
   "outputs": [
    {
     "name": "stdout",
     "output_type": "stream",
     "text": [
      "2D shape: (262144, 64)\n",
      "[[0. 0. 0. 0. 0. 0. 0. 0. 0. 0. 0. 0. 0. 0. 0. 0. 0. 0. 0. 0. 0. 0. 0. 0.\n",
      "  0. 0. 0. 0. 0. 0. 0. 0. 0. 0. 0. 0. 0. 0. 0. 0. 0. 0. 0. 0. 0. 0. 0. 0.\n",
      "  0. 0. 0. 0. 0. 0. 0. 0. 0. 0. 0. 0. 0. 0. 0. 0.]\n",
      " [0. 0. 0. 0. 0. 0. 0. 0. 0. 0. 0. 0. 0. 0. 0. 0. 0. 0. 0. 0. 0. 0. 0. 0.\n",
      "  0. 0. 0. 0. 0. 0. 0. 0. 0. 0. 0. 0. 0. 0. 0. 0. 0. 0. 0. 0. 0. 0. 0. 0.\n",
      "  0. 0. 0. 0. 0. 0. 0. 0. 0. 0. 0. 0. 0. 0. 0. 0.]\n",
      " [0. 0. 0. 0. 0. 0. 0. 0. 0. 0. 0. 0. 0. 0. 0. 0. 0. 0. 0. 0. 0. 0. 0. 0.\n",
      "  0. 0. 0. 0. 0. 0. 0. 0. 0. 0. 0. 0. 0. 0. 0. 0. 0. 0. 0. 0. 0. 0. 0. 0.\n",
      "  0. 0. 0. 0. 0. 0. 0. 0. 0. 0. 0. 0. 0. 0. 0. 0.]\n",
      " [0. 0. 0. 0. 0. 0. 0. 0. 0. 0. 0. 0. 0. 0. 0. 0. 0. 0. 0. 0. 0. 0. 0. 0.\n",
      "  0. 0. 0. 0. 0. 0. 0. 0. 0. 0. 0. 0. 0. 0. 0. 0. 0. 0. 0. 0. 0. 0. 0. 0.\n",
      "  0. 0. 0. 0. 0. 0. 0. 0. 0. 0. 0. 0. 0. 0. 0. 0.]\n",
      " [0. 0. 0. 0. 0. 0. 0. 0. 0. 0. 0. 0. 0. 0. 0. 0. 0. 0. 0. 0. 0. 0. 0. 0.\n",
      "  0. 0. 0. 0. 0. 0. 0. 0. 0. 0. 0. 0. 0. 0. 0. 0. 0. 0. 0. 0. 0. 0. 0. 0.\n",
      "  0. 0. 0. 0. 0. 0. 0. 0. 0. 0. 0. 0. 0. 0. 0. 0.]]\n"
     ]
    }
   ],
   "source": [
    "#flatten to 2D\n",
    "array_2d = array_4d.reshape(-1, array_4d.shape[-1])\n",
    "print(\"2D shape:\", array_2d.shape)\n",
    "print(array_2d[:5])\n"
   ]
  },
  {
   "cell_type": "code",
   "execution_count": 13,
   "id": "97b04c58-216a-4ba1-ae04-52696abc9fcb",
   "metadata": {},
   "outputs": [],
   "source": [
    "#Save as a csv file\n",
    "np.savetxt(\"Eu152Pb_2D.csv\", array_2d, delimiter=\",\")"
   ]
  },
  {
   "cell_type": "code",
   "execution_count": 14,
   "id": "243818db-50fb-400f-992b-b154ab5d3f30",
   "metadata": {},
   "outputs": [],
   "source": [
    "#print(f\"Total float32 values: {data.size}\")"
   ]
  },
  {
   "cell_type": "code",
   "execution_count": null,
   "id": "e2f2805f-6c34-4b09-90c2-878cfa347113",
   "metadata": {},
   "outputs": [],
   "source": []
  }
 ],
 "metadata": {
  "kernelspec": {
   "display_name": "Python 3 (ipykernel)",
   "language": "python",
   "name": "python3"
  },
  "language_info": {
   "codemirror_mode": {
    "name": "ipython",
    "version": 3
   },
   "file_extension": ".py",
   "mimetype": "text/x-python",
   "name": "python",
   "nbconvert_exporter": "python",
   "pygments_lexer": "ipython3",
   "version": "3.13.2"
  }
 },
 "nbformat": 4,
 "nbformat_minor": 5
}
